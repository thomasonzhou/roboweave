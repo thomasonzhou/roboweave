{
 "cells": [
  {
   "cell_type": "code",
   "execution_count": 3,
   "id": "4f373b60",
   "metadata": {},
   "outputs": [],
   "source": [
    "import google.generativeai as genai\n",
    "import weave\n",
    "\n",
    "import os\n",
    "from dotenv import load_dotenv\n",
    "\n",
    "def format_res(text):\n",
    "    return text.replace('•', '  *')\n",
    "genai.configure(api_key=os.getenv(\"GOOGLE_API_KEY\"))\n"
   ]
  },
  {
   "cell_type": "code",
   "execution_count": 6,
   "id": "6f779e8e",
   "metadata": {},
   "outputs": [
    {
     "data": {
      "text/plain": [
       "<weave.trace.weave_client.WeaveClient at 0x7f23e805e990>"
      ]
     },
     "execution_count": 6,
     "metadata": {},
     "output_type": "execute_result"
    }
   ],
   "source": [
    "query = \"what can you do?\"\n",
    "\n",
    "model = genai.GenerativeModel('gemini-2.0-flash-exp')\n",
    "project_name = \"roboweave\"\n",
    "weave.init(project_name)\n"
   ]
  },
  {
   "cell_type": "code",
   "execution_count": 17,
   "id": "3fbf9def",
   "metadata": {},
   "outputs": [],
   "source": [
    "@weave.op\n",
    "def query_model(query: str):\n",
    "    response = model.generate_content(\n",
    "        query\n",
    "    )\n",
    "    return format_res(response.text)\n",
    "\n"
   ]
  },
  {
   "cell_type": "code",
   "execution_count": 18,
   "id": "92851fd0",
   "metadata": {},
   "outputs": [
    {
     "data": {
      "text/plain": [
       "\"I am a large language model, also known as a conversational AI or chatbot trained to be informative and comprehensive. I am trained on a massive amount of text data and some image, audio and video data.\\n\\nHere's a breakdown of what I can do:\\n\\n**Text-Based Tasks:**\\n\\n*   **Generate Text:** I can write different kinds of creative text formats, like poems, code, scripts, musical pieces, email, letters, etc. I will try my best to follow all your requirements.\\n*   **Answer Questions:** I can answer questions in a comprehensive and informative way, even if they are open-ended, challenging, or strange. I will use my knowledge to provide helpful, relevant, and accurate responses.\\n*   **Translate Languages:** I can translate text from one language to another.\\n*   **Summarize Text:** I can provide concise summaries of long articles, reports, or documents.\\n*   **Write Different Kinds of Content:** I can help you create content for various purposes, such as blog posts, articles, social media updates, marketing copy, and more.\\n*   **Brainstorm Ideas:** If you're stuck on a problem or need inspiration, I can help you brainstorm ideas and explore different possibilities.\\n*   **Edit and Proofread:** I can help you edit and proofread your writing to ensure it is clear, concise, and error-free.\\n*   **Provide Definitions and Explanations:** I can define terms, explain concepts, and provide background information on a wide range of topics.\\n*   **Engage in Conversational Dialogue:** I can chat with you on a variety of topics, offering information, insights, and even a bit of humor.\\n*   **Follow Instructions:** I am designed to follow your instructions and complete your requests to the best of my ability.\\n\\n**Things I am still learning:**\\n\\n*   **Real-time Information:** My knowledge is based on the data I was trained on, so I might not always have the very latest information.\\n*   **Subjectivity and Opinions:** While I can generate text in different styles, I don't have personal opinions or beliefs.\\n*   **Complex Reasoning:** I can perform logical reasoning, but very complex or nuanced reasoning may be challenging.\\n*   **Physical Actions:** I am a language model, so I cannot perform physical actions in the real world.\\n\\n**How I work:**\\n\\nI use deep learning algorithms to understand and generate human language. I have been trained on a massive dataset of text and code, which allows me to recognize patterns, understand context, and generate coherent and relevant responses.\\n\\n**To get the best results from me:**\\n\\n*   **Be clear and specific in your requests.**\\n*   **Provide context and background information.**\\n*   **Let me know if you have any specific requirements or preferences.**\\n*   **Feel free to ask follow-up questions.**\\n\\nI'm always learning and improving, so I appreciate your feedback. How can I help you today?\\n\""
      ]
     },
     "execution_count": 18,
     "metadata": {},
     "output_type": "execute_result"
    }
   ],
   "source": [
    "query_model(\"what can you do?\")"
   ]
  }
 ],
 "metadata": {
  "kernelspec": {
   "display_name": "base",
   "language": "python",
   "name": "python3"
  },
  "language_info": {
   "codemirror_mode": {
    "name": "ipython",
    "version": 3
   },
   "file_extension": ".py",
   "mimetype": "text/x-python",
   "name": "python",
   "nbconvert_exporter": "python",
   "pygments_lexer": "ipython3",
   "version": "3.12.10"
  }
 },
 "nbformat": 4,
 "nbformat_minor": 5
}
