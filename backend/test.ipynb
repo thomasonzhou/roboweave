{
 "cells": [
  {
   "cell_type": "code",
   "execution_count": 3,
   "id": "4f373b60",
   "metadata": {},
   "outputs": [],
   "source": [
    "import google.generativeai as genai\n",
    "import weave\n",
    "import json\n",
    "import os\n",
    "from dotenv import load_dotenv\n",
    "import mujoco\n",
    "\n",
    "def format_res(text):\n",
    "    return text.replace('•', '  *')\n",
    "genai.configure(api_key=os.getenv(\"GOOGLE_API_KEY\"))\n"
   ]
  },
  {
   "cell_type": "code",
   "execution_count": 6,
   "id": "6f779e8e",
   "metadata": {},
   "outputs": [
    {
     "data": {
      "text/plain": [
       "<weave.trace.weave_client.WeaveClient at 0x7f23e805e990>"
      ]
     },
     "execution_count": 6,
     "metadata": {},
     "output_type": "execute_result"
    }
   ],
   "source": [
    "query = \"what can you do?\"\n",
    "\n",
    "model = genai.GenerativeModel('gemini-2.0-flash-exp')\n",
    "project_name = \"roboweave\"\n",
    "weave.init(project_name)\n"
   ]
  },
  {
   "cell_type": "code",
   "execution_count": 5,
   "id": "3fbf9def",
   "metadata": {},
   "outputs": [],
   "source": [
    "@weave.op\n",
    "def query_model(query: str):\n",
    "    response = model.generate_content(\n",
    "        query\n",
    "    )\n",
    "    try:\n",
    "        output = json.loads(response.text)\n",
    "    except:\n",
    "        output = response.text\n",
    "    return {\n",
    "        'summary': output\n",
    "    }"
   ]
  },
  {
   "cell_type": "code",
   "execution_count": null,
   "id": "92851fd0",
   "metadata": {},
   "outputs": [
    {
     "ename": "NameError",
     "evalue": "name 'query_model' is not defined",
     "output_type": "error",
     "traceback": [
      "\u001b[31m---------------------------------------------------------------------------\u001b[39m",
      "\u001b[31mNameError\u001b[39m                                 Traceback (most recent call last)",
      "\u001b[36mCell\u001b[39m\u001b[36m \u001b[39m\u001b[32mIn[4]\u001b[39m\u001b[32m, line 1\u001b[39m\n\u001b[32m----> \u001b[39m\u001b[32m1\u001b[39m \u001b[43mquery_model\u001b[49m(\u001b[33m\"\u001b[39m\u001b[33mwhat can you do?\u001b[39m\u001b[33m\"\u001b[39m)\n",
      "\u001b[31mNameError\u001b[39m: name 'query_model' is not defined"
     ]
    }
   ],
   "source": [
    "query_model(\"Help me generate a \")"
   ]
  },
  {
   "cell_type": "code",
   "execution_count": null,
   "id": "d9151157",
   "metadata": {},
   "outputs": [],
   "source": [
    "model = mujoco.MjModel.from_xml_path(\"go2.mjcf\")\n"
   ]
  }
 ],
 "metadata": {
  "kernelspec": {
   "display_name": "base",
   "language": "python",
   "name": "python3"
  },
  "language_info": {
   "codemirror_mode": {
    "name": "ipython",
    "version": 3
   },
   "file_extension": ".py",
   "mimetype": "text/x-python",
   "name": "python",
   "nbconvert_exporter": "python",
   "pygments_lexer": "ipython3",
   "version": "3.12.10"
  }
 },
 "nbformat": 4,
 "nbformat_minor": 5
}
